{
 "cells": [
  {
   "cell_type": "markdown",
   "id": "7d1e9c1c",
   "metadata": {},
   "source": [
    "# CS 419 Group Project"
   ]
  },
  {
   "cell_type": "markdown",
   "id": "381a6710",
   "metadata": {},
   "source": [
    "## 1 Problem Description\n",
    "\n",
    "What is the goal of this project? (functionality of this artifacts)  \n",
    "The goal of this project is to create an instant messaging app with End-to-end encryption.\n",
    "\n",
    "Where will this program be deployed or used? (platform, users)  \n",
    "This program will be deployed through the command line and used from a python file.\n",
    "\n",
    "## 2 Problem Analysis\n",
    "What is the threat model? Attackers’ knowledge, capability and goals?   \n",
    "\n",
    "\n",
    "What is the security goal and guarantee?   \n",
    "The security goal is to provide users with privacy of their messages and not letting outside attackers intercept their messages.\n",
    "\n",
    "## 3 Program Design\n",
    "How did you achieve your goal? functionality and security.    \n",
    "We achieved our goal using an encryption model that was made from scratch. \n",
    "\n",
    "How can it provide the security guarantee you intended?   \n",
    "It can proide securtiy by making it very difficult to crack the cipher text as it is being sent from person to person.\n",
    "\n",
    "## 4 Evaluation\n",
    "4.1 Evaluation Strategy\n",
    "What and how to evaluate? platform, datasets, user study?, how to measure, effectiveness, efficiency, security   \n",
    "We evaluate the security of our instant messenger by trying to intercept the messages and seeing how easy it is to turn cipher text into plain text.   \n",
    "\n",
    "4.2 Experiments\n",
    "How do you plan to do or design the experiments?   \n",
    "We plan to do our experiments by trying to crack the cipher text into plaintext.\n",
    "\n",
    "4.3 Results\n",
    "What are the results?   \n",
    "We have not tested this yet.\n",
    "\n",
    "4.4 Analysis\n",
    "What do these results mean?   \n",
    "This does not apply to us yet.\n",
    "\n",
    "## 5 Process Description\n",
    "Overall timeline.\n",
    "Where are we now?   \n",
    "We are still at the planning and initial implementation stage of the project\n",
    "\n",
    "## 6 Group and Artifacts\n",
    "Group members and each of their contributions in %.   \n",
    "benortiz   \n",
    "jayko88   \n",
    "AnythonyJG   \n",
    "Bonny Bear   \n",
    "\n",
    "Project repository address.   \n",
    "\n",
    "\n",
    "What is proud part of this project, for each of you?    \n",
    "benortiz   \n",
    "jayko88   \n",
    "AnythonyJG   \n",
    "Bonny Bear   \n",
    "\n",
    "## 7 Questions to Answer\n",
    "When do you want us to freeze the repository?        \n",
    "This does not apply to us yet. "
   ]
  },
  {
   "cell_type": "code",
   "execution_count": null,
   "id": "544ed910",
   "metadata": {},
   "outputs": [],
   "source": []
  }
 ],
 "metadata": {
  "kernelspec": {
   "display_name": "Python 3",
   "language": "python",
   "name": "python3"
  },
  "language_info": {
   "codemirror_mode": {
    "name": "ipython",
    "version": 3
   },
   "file_extension": ".py",
   "mimetype": "text/x-python",
   "name": "python",
   "nbconvert_exporter": "python",
   "pygments_lexer": "ipython3",
   "version": "3.8.8"
  }
 },
 "nbformat": 4,
 "nbformat_minor": 5
}
