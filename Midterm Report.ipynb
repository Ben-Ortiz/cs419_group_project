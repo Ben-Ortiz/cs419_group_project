{
 "cells": [
  {
   "cell_type": "markdown",
   "id": "7d1e9c1c",
   "metadata": {},
   "source": [
    "# CS 419 Group Project\n",
    "\n",
    "<h2>Developers:</h2>\n",
    "\n",
    "- Ben Ortiz (benortiz)  \n",
    "- Joshua Arleth (ja1057)   \n",
    "- Anthony Guarino (ajg331) \n",
    "- Josh Zimmerman (jnz8)  \n",
    "<br>"
   ]
  },
  {
   "cell_type": "markdown",
   "id": "381a6710",
   "metadata": {},
   "source": [
    "## 1 Problem Description\n",
    "\n",
    "<h3>1.1 What is the goal of this project?</h3>\n",
    "\n",
    "The goal of this project is to create a messaging app that allows it's users to send private messages to each other over the internet without worrying about their messages being read by potential attackers. This is achieved by using an encryption scheme similar to a vignere cipher, with some extra layers of security that prevent it to from being attacked by a Kasisky test. We do this by making words such as \"the\" to not be encrypted by into the same cipher text, and thus adding more security to messages in the app. We also try to make the key very hard to crack by giving each user a list of keys to use per message, thus giving another added layer of security. \n",
    "\n"
   ]
  },
  {
   "cell_type": "code",
   "execution_count": 23,
   "id": "6fb3229a",
   "metadata": {},
   "outputs": [],
   "source": [
    "# TODO: Code Here if Needed, Else This Can Be Deleted"
   ]
  },
  {
   "cell_type": "markdown",
   "id": "b7b321e4",
   "metadata": {},
   "source": [
    "<h3>1.2 Where will this program be deployed or used?</h3>\n",
    "\n",
    "The program is being designed for general consumers as the userbase. Whoever wants to send a message to another user on the app has access to use it. We hope to host this app in the future so it can be used on a web browser and anyone can log in as a user and start messaging each other with the goal of having the contents of their messages be secure. "
   ]
  },
  {
   "cell_type": "code",
   "execution_count": 24,
   "id": "f31a10bc",
   "metadata": {},
   "outputs": [],
   "source": [
    "# TODO: Code Here if Needed, Else This Can Be Deleted"
   ]
  },
  {
   "cell_type": "markdown",
   "id": "8f7efd4d",
   "metadata": {},
   "source": [
    "## 2 Problem Analysis\n",
    "<h3>2.1 What is the threat model? Attackers’ knowledge, capability and goals?</h3>\n",
    "\n",
    " The threat model we assumed is an attacker using the Kasisky test to attempt to decipher the ciphertext into plaintext. The attackers knowledge is the ciphertext, their capability is their ability to intercept the ciphertext, and their goal is to turn the ciphertext into plaintext. Attackers may be able to receive sent messages that are encrypted, ciphertext, and possibly send their own plaintext messages, but not be able to see them after they have been encrypted back into ciphertext. "
   ]
  },
  {
   "cell_type": "code",
   "execution_count": 25,
   "id": "b754f4d7",
   "metadata": {},
   "outputs": [],
   "source": [
    "# TODO: Code Here if Needed, Else This Can Be Deleted"
   ]
  },
  {
   "cell_type": "markdown",
   "id": "e332575a",
   "metadata": {},
   "source": [
    "\n",
    "<h3>2.2 What is the security goal and guarantee?</h3>\n",
    "\n",
    "The security goal is to allow users to retain the privacy of their messages. The security is designed to protect the content of the messages, not necessarily the messages themselves. The guarantee is that the content of the messages will be encrypted enough that attackers will not be able to decrypt the messages from attacks such as a Kasisky test, as well as having the key being very difficult to crack."
   ]
  },
  {
   "cell_type": "code",
   "execution_count": 26,
   "id": "6bc0c2ed",
   "metadata": {},
   "outputs": [],
   "source": [
    "# TODO: Code Here if Needed, Else This Can Be Deleted"
   ]
  },
  {
   "cell_type": "markdown",
   "id": "a9964cc9",
   "metadata": {},
   "source": [
    "## 3 Program Design\n",
    "\n",
    "<h3>3.1 How did you achieve your goal? How is the functionality and security implemented?</h3>\n",
    "\n",
    "We are designing an end to end encryption model that encrypts messages that are being sent and decrypts the messages once they have been confirmed as recieved by the destination. On delivery failure, the app will attempt to redeliver the message repeatedly until it recieves a proper ping or it times out. On timeout the message gets deleted and the user is notified of the deletion. The end implementation will be through a GUI app designed in Python that connects to an external server."
   ]
  },
  {
   "cell_type": "markdown",
   "id": "7efcf0fc",
   "metadata": {},
   "source": [
    "<h3>3.1.1 Encryption Algorithm Design</h3>\n",
    "\n",
    "<h4>Basic Functionality</h4>\n",
    "\n",
    "We designed and implemented our own encryption scheme which is built on top of the Vigenere Cipher. At the heart of the algorithm each character of the plain text is mapped to another random character according to a randomized key of fixed length. The new character is then inserted into the ciphertext and once all the characters in the plain text have been mapped and inserted into the ciphertext, the ciphertext is sent over the internet to the client. The client can then decrypt the ciphertext using the shared secret key and obtain the plaintext.\n",
    "\n",
    "<h4>Levels of Complexity</h4>\n",
    "\n",
    "Because there are known methods of cracking basic Viginere ciphers, such as the Kasisky Test, it is clear that we need to begin increasing the complexity of the above algorithm. Our encryption scheme accomplishes this in a variety of ways.\n",
    "\n",
    "The first thing we did was increase the number of characters we can encrypt. Instead of only being able to encrypt 26 characters, like a basic Vigenere cipher, our algorithm can map 100 characters. Specifically our algorithm can map every single printable ascii character to any other printable ascii character. This significanlty increases the effectiveness of the algorithm as now spaces, tabs, newlines, numbers, and any other printable characters that could show up in the plaintext are now encrypted to some other printable character.\n",
    "\n",
    "The second thing we did was randomize the keys. Each key is a fixed length sequence of random characters drawn from the set of printable ascii characters. The length of the keys will be set to the length of the maximum message size that we will allow for the messenger. This will make it so that for a single message the key never repeats. However an attacker intercepting multiple messages encrypted with the same key becomes a potential vulnerability. To mitigate this risk, each user has a set of keys. Each time a user sends a message the algorithm will randomely choose 1 of the keys to use for encryption. On the decryption side the client will need to decrypt the message with each key and then choose the result that isn't garbage text. To detect the non-grabage text the encryption algorithm inserts a check sum of the original plain text at the end of the encrypted message. The decrytper then extracts the check sum from the ciphertext, decrypts the ciphertext with each key, recalculates the check sum for each plain text, and returns the plain text whose check sum match the extracted check sum.\n",
    "\n",
    "The third thing we did is gave the algorithm the ability to inject random characters into the ciphertext at every other index. This adds further randomness to the ciphertext and adds another layer to the complexity of the encryption scheme. The last thing the encryption algorithm does is insert random characters from the set of printable ascii characters into the ciphertext. The first thing the decrypter does after it extracts the check sum is remove every other character as it knows that these characters are not part of the message.\n",
    "\n",
    "\n",
    "<h4>Further Improvements</h4>\n",
    "\n",
    "These are some of the ideas for improvments to the algorithm that we will attempt to implement.\n",
    "\n",
    "1:\n",
    "\n",
    "Instead of inserting characters truly randomly, we insert characters with probabilities pulled from a probability distribution. This will give us the ability to mimic some level of language in the ciphertext. There are techniques for detecting true randomnes in the ciphertext thus by inserting characters with varying probabilities we can reduce the amount of randomness involved and make it much more difficult to detect.\n",
    "\n",
    "2:\n",
    "\n",
    "We rotate the set of keys used to encrypt the messages on a per message basis. For instance each user will have a list of 100 sets of keys. Each time a user sends a message it will use a different set of keys to encrypt. Thus in order for an attacker to obtain 2 messages encrypted with same set of keys he would need, on average, to intercept 100+ messages. \n",
    "\n"
   ]
  },
  {
   "cell_type": "markdown",
   "id": "933e2524",
   "metadata": {},
   "source": [
    "<h3>3.1.2 Code Sample</h3>"
   ]
  },
  {
   "cell_type": "code",
   "execution_count": 27,
   "id": "a196f058",
   "metadata": {},
   "outputs": [
    {
     "name": "stdout",
     "output_type": "stream",
     "text": [
      "| Message: hello my name is josh |\n",
      "TQg`5Uzxw |\n",
      "| Plaintext: hello my name is josh |\n",
      "| Key: [',!3pI=p6Y,', 'iPYo^nEA}:'] |\n",
      "Done!\n"
     ]
    }
   ],
   "source": [
    "#Below is the code for the encryption algo\n",
    "#Sample output is shown below\n",
    "\n",
    "import sys\n",
    "import random\n",
    "import string\n",
    "\n",
    "#string of all printable characters\n",
    "PRINTABLE_CHARS = string.printable\n",
    "\n",
    "#debug variables to test various components\n",
    "DEBUG_VIG = 1\n",
    "DEBUG_RANDOM_KEY = 0\n",
    "DEBUG_INSERT_RAND_LETTERS = 0\n",
    "DEBUG_TEST_LETTER = 0\n",
    "DEBUG_MAP_MSG = 0\n",
    "\n",
    "#map string to values\n",
    "def map_str_to_num(s):\n",
    "\n",
    "    s_list = []\n",
    "    s_idx = 0\n",
    "\n",
    "    for x in s:\n",
    "        if x in PRINTABLE_CHARS:\n",
    "            s_idx = PRINTABLE_CHARS.find(x)\n",
    "            s_list.append(s_idx) \n",
    "    return s_list\n",
    "\n",
    "#sum elements of list and return mod 100\n",
    "def compute_check_sum(m_list):\n",
    "    c_sum = sum(m_list) % 100\n",
    "    return c_sum\n",
    "\n",
    "#grab last letter of msg and return value\n",
    "def get_check_sum(m_list):\n",
    "    c = m_list[-1:]\n",
    "    return PRINTABLE_CHARS.find(c)\n",
    "\n",
    "#map values to characters\n",
    "def map_num_to_str(num_list):   \n",
    "    s = ''\n",
    "    for x in num_list:\n",
    "        s += PRINTABLE_CHARS[x]     \n",
    "    return s\n",
    "\n",
    "#advanced encryption algorithm\n",
    "#m - the message you want to encrypt\n",
    "#k - a list of keys you want to use to encrypt m, the algo will select 1 at random\n",
    "#insert_chars - whether or not you want to insert random letters every other character\n",
    "def encrypt(m, k, insert_chars):\n",
    "\n",
    "    c_list = []             #empty list for cipher values\n",
    "    k_idx = 0               #index of the key letter in PRINTABLE_CHARS\n",
    "    new_c_val = 0           #index of the new encrypted character\n",
    "    k_list_len = len(k)     #numbers of keys in the key list\n",
    "    ct = ''                 #empty output string\n",
    "\n",
    "    #randomely choose a key from a list of keys passed in to encrypt with\n",
    "    key_select = random.randint(0, k_list_len - 1)\n",
    "    key = k[key_select]\n",
    "    k_len = len(key)\n",
    "\n",
    "    #map the key and msg to their indexes for encryption\n",
    "    m_list = map_str_to_num(m)\n",
    "    k_list = map_str_to_num(key)\n",
    "\n",
    "    for x in m_list:\n",
    "        new_c_val = (x + k_list[k_idx]) % len(PRINTABLE_CHARS)      #calculate new ciphertext value\n",
    "        c_list.append(new_c_val)\n",
    "        k_idx = (k_idx + 1) % k_len         #update location in key, use mod so if msg longer than key we loop back                   \n",
    "\n",
    "    #map value list back to string\n",
    "    ct = map_num_to_str(c_list)\n",
    "\n",
    "    if insert_chars:\n",
    "        ct = insert_rand_chars(ct)                              #make every other character a random letter\n",
    "\n",
    "    #compute and insert check sum\n",
    "    c_sum = compute_check_sum(m_list)\n",
    "    ct += PRINTABLE_CHARS[c_sum]\n",
    "\n",
    "    return ct\n",
    "\n",
    "#advanced decryption algorithm\n",
    "#inputs are the same as for encryption\n",
    "def decrypt(m, keys, insert_chars):\n",
    "\n",
    "    #get the checksum and remove checksum from ciphertext\n",
    "    c_sum = get_check_sum(m)\n",
    "    ct = m[:len(m) - 1]\n",
    "    if insert_chars:\n",
    "        ct = strip_rand_chars(m)      #remove every other character as we know they are garbage\n",
    "\n",
    "    #need to decrypt for each key in list till the checksums match\n",
    "    for k in keys:\n",
    "\n",
    "        msg_list = []           \n",
    "        k_idx = 0               \n",
    "        new_c_val = 0           \n",
    "        k_len = len(k)\n",
    "        msg = ''\n",
    "\n",
    "        m_list = map_str_to_num(ct)\n",
    "        k_list = map_str_to_num(k)\n",
    "        \n",
    "        for x in m_list:\n",
    "\n",
    "            new_c_val = ((x - k_list[k_idx]) + len(PRINTABLE_CHARS)) % len(PRINTABLE_CHARS)\n",
    "            msg_list.append(new_c_val)\n",
    "\n",
    "            k_idx = (k_idx + 1) % k_len     #do the opposite of encryption\n",
    "\n",
    "        msg = map_num_to_str(msg_list)\n",
    "\n",
    "        msg_c_sum = compute_check_sum(msg_list)     #get the checksum of the message we decrypted\n",
    "\n",
    "        if msg_c_sum == c_sum:              \n",
    "            return msg              #we found the right key\n",
    "\n",
    "    return -1\n",
    "\n",
    "#generate a random key\n",
    "#n - the length of the key you want to generate\n",
    "def get_rand_key(n):\n",
    "\n",
    "    k = ''\n",
    "\n",
    "    for __ in range(0, n):\n",
    "        k += random.choice(string.printable)\n",
    "    return k\n",
    "    \n",
    "\n",
    "#make every other character in a string a random character\n",
    "def insert_rand_chars(m):\n",
    "\n",
    "    new_list = []\n",
    "    new_m = \"\"\n",
    "\n",
    "    for c in m:\n",
    "        new_char = random.choice(string.printable)\n",
    "        new_list.append(c + new_char)\n",
    "\n",
    "    new_m = ''.join(new_list)\n",
    "\n",
    "    return new_m\n",
    "\n",
    "#remove every other character from a string\n",
    "def strip_rand_chars(m):\n",
    "\n",
    "    split_string = [m[i:i+2] for i in range(0, len(m), 2)]\n",
    "    for i in range(0, len(split_string)):\n",
    "        split_string[i] = split_string[i][:-1]\n",
    "\n",
    "    return ''.join(split_string)\n",
    "\n",
    "\n",
    "def main():\n",
    "\n",
    "    #this will test the encryption / decryption \n",
    "    if DEBUG_VIG == 1:\n",
    "        \n",
    "        #length of the key, using a small length for example\n",
    "        n = 10\n",
    "        \n",
    "        #generate list of 2 keys for example\n",
    "        key_list = [get_rand_key(n), get_rand_key(n)]\n",
    "\n",
    "        m = 'hello my name is josh'\n",
    "        ct = encrypt(m, key_list, True)\n",
    "        pt = decrypt(ct, key_list, True)\n",
    "\n",
    "        print(f'| Message: {m} |\\n| Ciphertext: {ct} |\\n| Plaintext: {pt} |')\n",
    "\n",
    "        print(f'| Key: {key_list} |')\n",
    "\n",
    "    print(\"Done!\")\n",
    "\n",
    "if __name__ == \"__main__\":\n",
    "    main()"
   ]
  },
  {
   "cell_type": "markdown",
   "id": "61faccb8",
   "metadata": {},
   "source": [
    "<h3>3.2 How can it provide the security guarantee you intended?</h3>\n",
    "\n",
    "Our encryption scheme can provide the security we guarantee by basing our encrpytion scheme to a vigenere cipher, but with some extra layers of security, such as preventing it from being susceptible to a Kasisky test, thus making it very difficult to crack the ciphertext. "
   ]
  },
  {
   "cell_type": "code",
   "execution_count": 28,
   "id": "274fb0b0",
   "metadata": {},
   "outputs": [],
   "source": [
    "# TODO: Code Here if Needed, Else This Can Be Deleted"
   ]
  },
  {
   "cell_type": "markdown",
   "id": "ba292fde",
   "metadata": {},
   "source": [
    "## 4 Evaluation\n",
    "\n",
    "<h3>4.1 Evaluation Strategy</h3>\n",
    "\n",
    "What and how to evaluate? platform, datasets, user study?, how to measure, effectiveness, efficiency, security.  \n",
    "  \n",
    "What we will be evaluating is how difficult it is to crack the ciphertext from our encryption scheme. How we will evaluate the security of our instant messenger app is by first taking an example ciphertext and trying to decrypt it back into plaintext, and seeing how fast it can be done. We will do this by trying to attack it ourselves. \n",
    "  \n",
    "We can evaluate the efficiency by calculating how long encryption / decryption takes for a variety of key and message lengths."
   ]
  },
  {
   "cell_type": "code",
   "execution_count": 29,
   "id": "dc9ec564",
   "metadata": {},
   "outputs": [],
   "source": [
    "# TODO: Code Here if Needed, Else This Can Be Deleted"
   ]
  },
  {
   "cell_type": "markdown",
   "id": "94cde93a",
   "metadata": {},
   "source": [
    "<h3>4.2 Experiments</h3>\n",
    "\n",
    "How do you plan to do or design the experiments?  \n",
    "  \n",
    "We plan to do our experiments by first assuming the attacker can intercept the cipher text. Then attackers will attempt to crack the cipher text into plaintext. This will be done by us, and we will attempt to crack our own ciphertext back into plaintext, with the assumption the messages can already be intercepted. "
   ]
  },
  {
   "cell_type": "code",
   "execution_count": 30,
   "id": "2403628e",
   "metadata": {},
   "outputs": [],
   "source": [
    "# TODO: Code Here if Needed, Else This Can Be Deleted"
   ]
  },
  {
   "cell_type": "markdown",
   "id": "448ebb78",
   "metadata": {},
   "source": [
    "<h3>4.3 Results</h3>\n",
    "\n",
    "What are the results?  \n",
    "  \n",
    "Assuming the results of our attacks are acceptable, we can expect to either, not be able to crack the ciphertext at all, crack some of the ciphertext, or actually crack the ciphertext completely. This is under the assumption that our attacks are successful, such as using the Kasisky test to attempt to crack the ciphertext, and finding the key. "
   ]
  },
  {
   "cell_type": "code",
   "execution_count": 31,
   "id": "e5cc1cea",
   "metadata": {},
   "outputs": [],
   "source": [
    "# TODO: Code Here if Needed, Else This Can Be Deleted"
   ]
  },
  {
   "cell_type": "markdown",
   "id": "8632088f",
   "metadata": {},
   "source": [
    "<h3>4.4 Analysis</h3>\n",
    "\n",
    "What do these results mean?  \n",
    "  \n",
    "Assuming the results we get are either, we do not crack the ciphertext, only crack some of the ciphertext, or do not crack the ciphertext at all. The results can mean that our encryption scheme is good enough to not be broken by a Kasisky test assuming it wasn't able to be cracked. If the encryption scheme isn't good enough, where some of the ciphertext can be decrpyted or not decrypted at all, then we know that our encrpytion scheme is strong enough to not be cracked by the Kasisky test, and is sufficient enough in providing the security we need for our messaing app. "
   ]
  },
  {
   "cell_type": "code",
   "execution_count": 32,
   "id": "60c9a5d3",
   "metadata": {},
   "outputs": [],
   "source": [
    "# TODO: Code Here if Needed, Else This Can Be Deleted"
   ]
  },
  {
   "cell_type": "markdown",
   "id": "7d0183fa",
   "metadata": {},
   "source": [
    "## 5 Process Description\n",
    "Overall timeline.\n",
    "Where are we now?   \n",
    "  \n",
    "Currently the software can connect to a specific port on a server and send a response to the client. It will also be able to send simple messages through a basic client. We have also created an encryption scheme that will encrypt the messages that is sent between 2 messengers. The timeline in the future is to complete the encrpytion scheme to make sure we are satisfied with how secure it is, create the messaging app itself that allows users to send message, create a GUI for the messaging app, host it, and merge it all together to make sure it works."
   ]
  },
  {
   "cell_type": "code",
   "execution_count": 33,
   "id": "c3dcb4af",
   "metadata": {},
   "outputs": [],
   "source": [
    "# TODO: Code Here if Needed, Else This Can Be Deleted"
   ]
  },
  {
   "cell_type": "markdown",
   "id": "55ba20f2",
   "metadata": {},
   "source": [
    "## 6 Group and Artifacts\n",
    "Group members and each of their contributions in %.   \n",
    "- Ben Ortiz (benortiz)  -  25%  \n",
    "- Joshua Arleth (ja1057) - 25%  \n",
    "- Anthony Guarino (ajg331) - 25%  \n",
    "- Josh Zimmerman (jnz8) - 25%  \n",
    "\n",
    "Project repository address.   \n",
    "https://github.com/Ben-Ortiz/cs419_group_project  \n",
    "  \n",
    "What is proud part of this project, for each of you?  \n",
    "- Ben Ortiz (benortiz)  \n",
    "- Joshua Arleth (ja1057)  \n",
    "- Anthony Guarino (ajg331)  \n",
    "- Josh Zimmerman (jnz8)  "
   ]
  },
  {
   "cell_type": "code",
   "execution_count": 34,
   "id": "f2c9e3d6",
   "metadata": {},
   "outputs": [],
   "source": [
    "# TODO: Code Here if Needed, Else This Can Be Deleted"
   ]
  },
  {
   "cell_type": "markdown",
   "id": "fb2cad8f",
   "metadata": {},
   "source": [
    "\n",
    "## 7 Questions to Answer\n",
    "When do you want us to freeze the repository?  \n",
    "  \n",
    "This does not apply to us yet. "
   ]
  }
 ],
 "metadata": {
  "interpreter": {
   "hash": "0ede4a99af79f74f0608661ee369d035e3916bef7058c45714e9d47aa4942e16"
  },
  "kernelspec": {
   "display_name": "Python 3",
   "language": "python",
   "name": "python3"
  },
  "language_info": {
   "codemirror_mode": {
    "name": "ipython",
    "version": 3
   },
   "file_extension": ".py",
   "mimetype": "text/x-python",
   "name": "python",
   "nbconvert_exporter": "python",
   "pygments_lexer": "ipython3",
   "version": "3.8.8"
  }
 },
 "nbformat": 4,
 "nbformat_minor": 5
}
