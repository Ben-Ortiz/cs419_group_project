{
 "cells": [
  {
   "cell_type": "markdown",
   "id": "7d1e9c1c",
   "metadata": {},
   "source": [
    "# CS 419 Group Project\n",
    "\n",
    "<h2>Developers: (Replace with your name/netid, also delete these instructions when everyone is done)</h2>\n",
    "\n",
    "- benortiz  \n",
    "- Joshua Arleth (ja1057)   \n",
    "- Anthony Guarino (ajg331) \n",
    "- Bonny Bear   \n",
    "<br>"
   ]
  },
  {
   "cell_type": "markdown",
   "id": "381a6710",
   "metadata": {},
   "source": [
    "## 1 Problem Description\n",
    "\n",
    "<h3>1.1 What is the goal of this project?</h3>\n",
    "\n",
    "The goal of this project is to create an app allowing users to send private messages to each other over the internet without worrying about their messages being read by potential attackers.\n",
    "\n"
   ]
  },
  {
   "cell_type": "code",
   "execution_count": 2,
   "id": "6fb3229a",
   "metadata": {},
   "outputs": [],
   "source": [
    "# TODO: Code Here if Needed, Else This Can Be Deleted"
   ]
  },
  {
   "cell_type": "markdown",
   "id": "b7b321e4",
   "metadata": {},
   "source": [
    "<h3>1.2 Where will this program be deployed or used?</h3>\n",
    "\n",
    "The program is being designed for general consumers as the userbase. Whoever wants to send a message to another user on the app has access to use it."
   ]
  },
  {
   "cell_type": "code",
   "execution_count": 3,
   "id": "f31a10bc",
   "metadata": {},
   "outputs": [],
   "source": [
    "# TODO: Code Here if Needed, Else This Can Be Deleted"
   ]
  },
  {
   "cell_type": "markdown",
   "id": "8f7efd4d",
   "metadata": {},
   "source": [
    "## 2 Problem Analysis\n",
    "<h3>2.1 What is the threat model? Attackers’ knowledge, capability and goals?</h3>\n",
    "\n",
    " Attackers may be able to recieve sent messages that are encrypted, and possibly send their own messages but not be able to see them after they have been encrypted."
   ]
  },
  {
   "cell_type": "code",
   "execution_count": 4,
   "id": "b754f4d7",
   "metadata": {},
   "outputs": [],
   "source": [
    "# TODO: Code Here if Needed, Else This Can Be Deleted"
   ]
  },
  {
   "cell_type": "markdown",
   "id": "e332575a",
   "metadata": {},
   "source": [
    "\n",
    "<h3>2.2 What is the security goal and guarantee?</h3>\n",
    "\n",
    "The security goal is to allow users to retain the privacy of their messages. The security is designed to protect the content of the messages, not necessarily the messages themselves."
   ]
  },
  {
   "cell_type": "code",
   "execution_count": 5,
   "id": "6bc0c2ed",
   "metadata": {},
   "outputs": [],
   "source": [
    "# TODO: Code Here if Needed, Else This Can Be Deleted"
   ]
  },
  {
   "cell_type": "markdown",
   "id": "a9964cc9",
   "metadata": {},
   "source": [
    "## 3 Program Design\n",
    "\n",
    "<h3>3.1 How did you achieve your goal? How is the functionality and security implemented?</h3>\n",
    "\n",
    "We are designing an end to end encryption model that encrypts messages that are being sent and decrypts the messages once they have been confirmed as recieved by the destination. On delivery failure, the app will attempt to redeliver the message repeatedly until it recieves a proper ping or it times out. On timeout the message gets deleted and the user is notified of the deletion. The end implementation will be through a GUI app designed in Python that connects to an external server."
   ]
  },
  {
   "cell_type": "markdown",
   "id": "7efcf0fc",
   "metadata": {},
   "source": [
    "<h3>3.1.1 Encryption Algorithm Design</h3>\n",
    "\n",
    "<h4>Basic Functionality</h4>\n",
    "\n",
    "We designed and implemented our own encryption scheme which is built on top of the Vigenere Cipher. At the heart of the algorithm each character of the plain text is mapped to another random character according to a randomized key of fixed length. The new character is then inserted into the ciphertext and once all the characters in the plain text have been mapped and inserted into the ciphertext, the ciphertext is sent over the internet to the client. The client can then decrypt the ciphertext using the shared secret key and obtain the plaintext.\n",
    "\n",
    "<h4>Levels of Complexity</h4>\n",
    "\n",
    "Because there are known methods of cracking basic Viginere ciphers, such as the Kasisky Test, it is clear that we need to begin increasing the complexity of the above algorithm. Our encryption scheme accomplishes this in a variety of ways.\n",
    "\n",
    "The first thing we did was increase the number of characters we can encrypt. Instead of only being able to encrypt 26 characters, like a basic Vigenere cipher, our algorithm can map 100 characters. Specifically our algorithm can map every single printable ascii character to any other printable ascii character. This significanlty increases the effectiveness of the algorithm as now spaces, tabs, newlines, numbers, and any other printable characters that could show up in the plaintext are now encrypted to some other printable character.\n",
    "\n",
    "The second thing we did was randomize the keys. Each key is a fixed length sequence of random characters drawn from the set of printable ascii characters. The length of the keys will be set to the length of the maximum message size that we will allow for the messenger. This will make it so that for a single message the key never repeats. However an attacker intercepting multiple messages encrypted with the same key becomes a potential vulnerability. To mitigate this risk, each user has a set of keys. Each time a user sends a message the algorithm will randomely choose 1 of the keys to use for encryption. On the decryption side the client will need to decrypt the message with each key and then choose the result that isn't garbage text. To detect the non-grabage text the encryption algorithm inserts a check sum of the original plain text at the end of the encrypted message. The decrytper then extracts the check sum from the ciphertext, decrypts the ciphertext with each key, recalculates the check sum for each plain text, and returns the plain text whose check sum match the extracted check sum.\n"
   ]
  },
  {
   "cell_type": "code",
   "execution_count": 7,
   "id": "a196f058",
   "metadata": {},
   "outputs": [],
   "source": [
    "# TODO: Code Here if Needed, Else This Can Be Deleted"
   ]
  },
  {
   "cell_type": "markdown",
   "id": "61faccb8",
   "metadata": {},
   "source": [
    "<h3>3.2 How can it provide the security guarantee you intended?</h3>\n",
    "\n",
    "It can proide securtiy by making it very difficult to crack the cipher text as it is being sent from person to person."
   ]
  },
  {
   "cell_type": "code",
   "execution_count": 8,
   "id": "274fb0b0",
   "metadata": {},
   "outputs": [],
   "source": [
    "# TODO: Code Here if Needed, Else This Can Be Deleted"
   ]
  },
  {
   "cell_type": "markdown",
   "id": "ba292fde",
   "metadata": {},
   "source": [
    "## 4 Evaluation\n",
    "\n",
    "<h3>4.1 Evaluation Strategy</h3>\n",
    "\n",
    "What and how to evaluate? platform, datasets, user study?, how to measure, effectiveness, efficiency, security   \n",
    "We evaluate the security of our instant messenger by trying to intercept the messages and seeing how easy it is to turn cipher text into plain text.   "
   ]
  },
  {
   "cell_type": "code",
   "execution_count": 9,
   "id": "dc9ec564",
   "metadata": {},
   "outputs": [],
   "source": [
    "# TODO: Code Here if Needed, Else This Can Be Deleted"
   ]
  },
  {
   "cell_type": "markdown",
   "id": "94cde93a",
   "metadata": {},
   "source": [
    "<h3>4.2 Experiments</h3>\n",
    "\n",
    "How do you plan to do or design the experiments?\n",
    "We plan to do our experiments by trying to crack the cipher text into plaintext."
   ]
  },
  {
   "cell_type": "code",
   "execution_count": 10,
   "id": "2403628e",
   "metadata": {},
   "outputs": [],
   "source": [
    "# TODO: Code Here if Needed, Else This Can Be Deleted"
   ]
  },
  {
   "cell_type": "markdown",
   "id": "448ebb78",
   "metadata": {},
   "source": [
    "<h3>4.3 Results</h3>\n",
    "\n",
    "What are the results?\n",
    "\n",
    "We have not tested this yet."
   ]
  },
  {
   "cell_type": "code",
   "execution_count": 11,
   "id": "e5cc1cea",
   "metadata": {},
   "outputs": [],
   "source": [
    "# TODO: Code Here if Needed, Else This Can Be Deleted"
   ]
  },
  {
   "cell_type": "markdown",
   "id": "8632088f",
   "metadata": {},
   "source": [
    "<h3>4.4 Analysis</h3>\n",
    "\n",
    "What do these results mean?   \n",
    "This does not apply to us yet."
   ]
  },
  {
   "cell_type": "code",
   "execution_count": 12,
   "id": "60c9a5d3",
   "metadata": {},
   "outputs": [],
   "source": [
    "# TODO: Code Here if Needed, Else This Can Be Deleted"
   ]
  },
  {
   "cell_type": "markdown",
   "id": "7d0183fa",
   "metadata": {},
   "source": [
    "## 5 Process Description\n",
    "Overall timeline.\n",
    "Where are we now?   \n",
    "Currently The software can connect to a specific port on a server and send a response to the client. It will also be able to send simple messages through a basic client."
   ]
  },
  {
   "cell_type": "code",
   "execution_count": null,
   "id": "c3dcb4af",
   "metadata": {},
   "outputs": [],
   "source": [
    "# TODO: Code Here if Needed, Else This Can Be Deleted"
   ]
  },
  {
   "cell_type": "markdown",
   "id": "55ba20f2",
   "metadata": {},
   "source": [
    "## 6 Group and Artifacts\n",
    "Group members and each of their contributions in %.   \n",
    "benortiz   \n",
    "jayko88   \n",
    "AnythonyJG   \n",
    "Bonny Bear   \n",
    "\n",
    "Project repository address.   \n",
    "Access to the private repo will given at a later time.\n",
    "\n",
    "What is proud part of this project, for each of you?    \n",
    "benortiz   \n",
    "jayko88   \n",
    "AnythonyJG   \n",
    "Bonny Bear   "
   ]
  },
  {
   "cell_type": "code",
   "execution_count": null,
   "id": "f2c9e3d6",
   "metadata": {},
   "outputs": [],
   "source": []
  },
  {
   "cell_type": "markdown",
   "id": "fb2cad8f",
   "metadata": {},
   "source": [
    "\n",
    "## 7 Questions to Answer\n",
    "When do you want us to freeze the repository?        \n",
    "This does not apply to us yet. "
   ]
  }
 ],
 "metadata": {
  "interpreter": {
   "hash": "c9ecc03b46c9795a87cf7f51f8838fe753dc79a5c6b1bd0de0b5d3738fdfd690"
  },
  "kernelspec": {
   "display_name": "Python 3",
   "language": "python",
   "name": "python3"
  },
  "language_info": {
   "codemirror_mode": {
    "name": "ipython",
    "version": 3
   },
   "file_extension": ".py",
   "mimetype": "text/x-python",
   "name": "python",
   "nbconvert_exporter": "python",
   "pygments_lexer": "ipython3",
   "version": "3.8.8"
  }
 },
 "nbformat": 4,
 "nbformat_minor": 5
}
