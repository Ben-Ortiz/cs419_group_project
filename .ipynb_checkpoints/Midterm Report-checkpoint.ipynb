{
 "cells": [
  {
   "cell_type": "markdown",
   "id": "7d1e9c1c",
   "metadata": {},
   "source": [
    "# CS 419 Group Project\n",
    "\n",
    "<h2>Developers: (Replace with your name/netid, also delete these instructions when everyone is done)</h2>\n",
    "\n",
    "- benortiz  \n",
    "- jayko88   \n",
    "- Anthony Guarino (ajg331) \n",
    "- Bonny Bear   \n",
    "<br>"
   ]
  },
  {
   "cell_type": "markdown",
   "id": "381a6710",
   "metadata": {},
   "source": [
    "## 1 Problem Description\n",
    "\n",
    "<h3>1.1 What is the goal of this project?</h3>\n",
    "\n",
    "The goal of this project is to create an app allowing users to send messages to each other over the internet.\n",
    "\n"
   ]
  },
  {
   "cell_type": "code",
   "execution_count": 2,
   "id": "6fb3229a",
   "metadata": {},
   "outputs": [],
   "source": [
    "# TODO: Code Here if Needed, Else This Can Be Deleted"
   ]
  },
  {
   "cell_type": "markdown",
   "id": "b7b321e4",
   "metadata": {},
   "source": [
    "<h3>1.2 Where will this program be deployed or used?</h3>\n",
    "\n",
    "The program is being designed for general consumers as the userbase. Whoever wants to send a message to another user on the app has access to use it."
   ]
  },
  {
   "cell_type": "code",
   "execution_count": 3,
   "id": "f31a10bc",
   "metadata": {},
   "outputs": [],
   "source": [
    "# TODO: Code Here if Needed, Else This Can Be Deleted"
   ]
  },
  {
   "cell_type": "markdown",
   "id": "8f7efd4d",
   "metadata": {},
   "source": [
    "## 2 Problem Analysis\n",
    "<h3>2.1 What is the threat model? Attackers’ knowledge, capability and goals?</h3>\n",
    "\n",
    " Attackers may be able to recieve sent messages that are encrypted, and possibly send their own messages but not be able to see them after they have been encrypted."
   ]
  },
  {
   "cell_type": "code",
   "execution_count": 4,
   "id": "b754f4d7",
   "metadata": {},
   "outputs": [],
   "source": [
    "# TODO: Code Here if Needed, Else This Can Be Deleted"
   ]
  },
  {
   "cell_type": "markdown",
   "id": "e332575a",
   "metadata": {},
   "source": [
    "\n",
    "<h3>2.2 What is the security goal and guarantee?</h3>\n",
    "\n",
    "The security goal is to allow users to retain the privacy of their messages. The security is designed to protect the content of the messages, not necessarily the messages themselves."
   ]
  },
  {
   "cell_type": "code",
   "execution_count": 5,
   "id": "6bc0c2ed",
   "metadata": {},
   "outputs": [],
   "source": [
    "# TODO: Code Here if Needed, Else This Can Be Deleted"
   ]
  },
  {
   "cell_type": "markdown",
   "id": "a9964cc9",
   "metadata": {},
   "source": [
    "## 3 Program Design\n",
    "\n",
    "<h3>3.1 How did you achieve your goal? How is the functionality and security implement?</h3>\n",
    "\n",
    "The we are using an end to end encryption model that encrypts messages that are being sent and decrypts the messages once they have been confirmed as recieved by the destination. On delivery failure, the app will attempt to redeliver the message repeatedly until it recieves a proper ping or it times out. On timeout the message gets deleted and the user is notified of the deletion. The end implementation will be through a GUI app designed in Python that connects to an external server."
   ]
  },
  {
   "cell_type": "code",
   "execution_count": 7,
   "id": "a196f058",
   "metadata": {},
   "outputs": [],
   "source": [
    "# TODO: Code Here if Needed, Else This Can Be Deleted"
   ]
  },
  {
   "cell_type": "markdown",
   "id": "61faccb8",
   "metadata": {},
   "source": [
    "<h3>3.2 How can it provide the security guarantee you intended?</h3>\n",
    "\n",
    "It can proide securtiy by making it very difficult to crack the cipher text as it is being sent from person to person."
   ]
  },
  {
   "cell_type": "code",
   "execution_count": 8,
   "id": "274fb0b0",
   "metadata": {},
   "outputs": [],
   "source": [
    "# TODO: Code Here if Needed, Else This Can Be Deleted"
   ]
  },
  {
   "cell_type": "markdown",
   "id": "ba292fde",
   "metadata": {},
   "source": [
    "## 4 Evaluation\n",
    "\n",
    "<h3>4.1 Evaluation Strategy</h3>\n",
    "\n",
    "What and how to evaluate? platform, datasets, user study?, how to measure, effectiveness, efficiency, security   \n",
    "We evaluate the security of our instant messenger by trying to intercept the messages and seeing how easy it is to turn cipher text into plain text.   "
   ]
  },
  {
   "cell_type": "code",
   "execution_count": 9,
   "id": "dc9ec564",
   "metadata": {},
   "outputs": [],
   "source": [
    "# TODO: Code Here if Needed, Else This Can Be Deleted"
   ]
  },
  {
   "cell_type": "markdown",
   "id": "94cde93a",
   "metadata": {},
   "source": [
    "<h3>4.2 Experiments</h3>\n",
    "\n",
    "How do you plan to do or design the experiments?\n",
    "We plan to do our experiments by trying to crack the cipher text into plaintext."
   ]
  },
  {
   "cell_type": "code",
   "execution_count": 10,
   "id": "2403628e",
   "metadata": {},
   "outputs": [],
   "source": [
    "# TODO: Code Here if Needed, Else This Can Be Deleted"
   ]
  },
  {
   "cell_type": "markdown",
   "id": "448ebb78",
   "metadata": {},
   "source": [
    "<h3>4.3 Results</h3>\n",
    "\n",
    "What are the results?\n",
    "\n",
    "We have not tested this yet."
   ]
  },
  {
   "cell_type": "code",
   "execution_count": 11,
   "id": "e5cc1cea",
   "metadata": {},
   "outputs": [],
   "source": [
    "# TODO: Code Here if Needed, Else This Can Be Deleted"
   ]
  },
  {
   "cell_type": "markdown",
   "id": "8632088f",
   "metadata": {},
   "source": [
    "<h3>4.4 Analysis</h3>\n",
    "\n",
    "What do these results mean?   \n",
    "This does not apply to us yet."
   ]
  },
  {
   "cell_type": "code",
   "execution_count": 12,
   "id": "60c9a5d3",
   "metadata": {},
   "outputs": [],
   "source": [
    "# TODO: Code Here if Needed, Else This Can Be Deleted"
   ]
  },
  {
   "cell_type": "markdown",
   "id": "7d0183fa",
   "metadata": {},
   "source": [
    "## 5 Process Description\n",
    "Overall timeline.\n",
    "Where are we now?   \n",
    "Currently The software can connect to a specific port on a server and send a response to the client. It will also be able to send simple messages through a basic client."
   ]
  },
  {
   "cell_type": "code",
   "execution_count": null,
   "id": "c3dcb4af",
   "metadata": {},
   "outputs": [],
   "source": [
    "# TODO: Code Here if Needed, Else This Can Be Deleted"
   ]
  },
  {
   "cell_type": "markdown",
   "id": "55ba20f2",
   "metadata": {},
   "source": [
    "## 6 Group and Artifacts\n",
    "Group members and each of their contributions in %.   \n",
    "benortiz   \n",
    "jayko88   \n",
    "AnythonyJG   \n",
    "Bonny Bear   \n",
    "\n",
    "Project repository address.   \n",
    "Access to the private repo will given at a later time.\n",
    "\n",
    "What is proud part of this project, for each of you?    \n",
    "benortiz   \n",
    "jayko88   \n",
    "AnythonyJG   \n",
    "Bonny Bear   "
   ]
  },
  {
   "cell_type": "code",
   "execution_count": null,
   "id": "f2c9e3d6",
   "metadata": {},
   "outputs": [],
   "source": []
  },
  {
   "cell_type": "markdown",
   "id": "fb2cad8f",
   "metadata": {},
   "source": [
    "\n",
    "## 7 Questions to Answer\n",
    "When do you want us to freeze the repository?        \n",
    "This does not apply to us yet. "
   ]
  }
 ],
 "metadata": {
  "interpreter": {
   "hash": "c9ecc03b46c9795a87cf7f51f8838fe753dc79a5c6b1bd0de0b5d3738fdfd690"
  },
  "kernelspec": {
   "display_name": "Python 3",
   "language": "python",
   "name": "python3"
  },
  "language_info": {
   "codemirror_mode": {
    "name": "ipython",
    "version": 3
   },
   "file_extension": ".py",
   "mimetype": "text/x-python",
   "name": "python",
   "nbconvert_exporter": "python",
   "pygments_lexer": "ipython3",
   "version": "3.8.9"
  }
 },
 "nbformat": 4,
 "nbformat_minor": 5
}
