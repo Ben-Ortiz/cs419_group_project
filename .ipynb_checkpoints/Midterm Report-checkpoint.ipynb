{
 "cells": [
  {
   "cell_type": "markdown",
   "id": "7d1e9c1c",
   "metadata": {},
   "source": [
    "# CS 419 Group Project"
   ]
  },
  {
   "cell_type": "markdown",
   "id": "93c03bc8",
   "metadata": {},
   "source": [
    "1. Problem Description\n",
    "\n",
    "What is the goal of this project?\n",
    "Where will this progam be deployed or used?\n",
    "\n",
    "2 Problem Analysis\n",
    "What is the threat model? Attackers’ knowledge, capability and goals?\n",
    "What is the security goal and guarantee?\n",
    "\n",
    "3 Program Design\n",
    "How did you achieve your goal? functionality and security.\n",
    "How can it provide the security guarantee you intended?\n",
    "\n",
    "4 Evaluation\n",
    "4.1 Evaluation Strategy\n",
    "What and how to evaluate? platform, datasets, user study?, how to measure, effectiveness, efficiency, security\n",
    "\n",
    "4.2 Experiments\n",
    "How do you plan to do or design the experiments?\n",
    "\n",
    "4.3 Results\n",
    "What are the results?\n",
    "\n",
    "4.4 Analysis\n",
    "What do these results mean?\n",
    "\n",
    "5 Process Description\n",
    "Overall timeline.\n",
    "Where are we now?\n",
    "\n",
    "6 Group and Artifacts\n",
    "Group members and each of their contributions in %.\n",
    "Project repository address.\n",
    "What is proud part of this project, for each of you?\n",
    "\n",
    "7 Questions to Answer\n",
    "When do you want us to freeze the repository?"
   ]
  }
 ],
 "metadata": {
  "kernelspec": {
   "display_name": "Python 3",
   "language": "python",
   "name": "python3"
  },
  "language_info": {
   "codemirror_mode": {
    "name": "ipython",
    "version": 3
   },
   "file_extension": ".py",
   "mimetype": "text/x-python",
   "name": "python",
   "nbconvert_exporter": "python",
   "pygments_lexer": "ipython3",
   "version": "3.8.8"
  }
 },
 "nbformat": 4,
 "nbformat_minor": 5
}
